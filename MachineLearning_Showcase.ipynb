{
 "cells": [
  {
   "cell_type": "markdown",
   "id": "e648b5d5-436f-47d2-a300-47434afd1eb2",
   "metadata": {},
   "source": [
    "**NOTE: only test Data ist included with 10 rows**\n",
    "**Forecasting der Residuallast im Stromnetz: Ein Machine-Learning Showcase von Simon&nbsp;Thiel zur Demonstration grundlegendener Methodenkompetenz**\n",
    "- Setup für lauffähigen Docker-Container\n",
    "- Import und Bereinigung von Daten für das Stromnetz vom 10.06.22 bis zum 10.06.2025\n",
    "- Demonstration grundlegender SQL-Kompetenz\n",
    "- Visualisierung der Residuallast als Plausibilitätsüberprüfung\n",
    "- Import von Wetterdaten (requested von https://open-meteo.com/en/docs/historical-weather-api und als .csv gespeichert) für verschiedene Städte, resampling nach Tagesmittelwert (Sonnenstrahlung (W/m^2), Wind (km/h in 100m Höhe), Temperatur (°C)) Zusammenführen der Daten in ein großes DataFrame und Definition von Tag pro Jahr und Tag der Woche\n",
    "- ML Workflow mit Gradient Boosting als Modell\n",
    "- Relevanz der einzelnen Features"
   ]
  },
  {
   "cell_type": "markdown",
   "id": "9751f189-a725-49c6-b265-b0ebf8d770dc",
   "metadata": {},
   "source": [
    "# Setup für reproduzierbare Ausführung im Docker-Container: \n",
    "- Notebook wurde nach Python-Skript (.py) konvertiert, \n",
    "- Abhängigkeiten über packages.txt definiert, \n",
    "- ein Dockerfile erstellt, um das Skript im Container lauffähig zu machen. \n",
    "(Daten liegen lokal vor und wurden im Showcase nicht mitgeliefert.)\n"
   ]
  },
  {
   "cell_type": "markdown",
   "id": "261a7417-d7cc-4d15-83e9-98a64f41e750",
   "metadata": {},
   "source": [
    "Terminal-Befehl um Jupyter-Notebook-Datei in Python-Datei zu konvertieren."
   ]
  },
  {
   "cell_type": "markdown",
   "id": "5d89ac65-448b-40e2-b12b-c3650217d21c",
   "metadata": {},
   "source": [
    "Inhalt von Packages.txt"
   ]
  },
  {
   "cell_type": "markdown",
   "id": "80ebafd9-0563-40d0-98e7-5472ca191ab3",
   "metadata": {},
   "source": [
    "docker build -t stromnetz-analysis .\n",
    "docker run --rm -v $(pwd):/Data_Analysis/Stromnetz stromnetz-analysis\n"
   ]
  },
  {
   "cell_type": "markdown",
   "id": "4ec63b0d-c253-4b6e-aa6b-e6bfc28b7c1c",
   "metadata": {},
   "source": [
    "Inhalt von Dockerfile"
   ]
  },
  {
   "cell_type": "code",
   "execution_count": 2,
   "id": "a5a781c2-e544-4873-b375-3558e381b22b",
   "metadata": {},
   "outputs": [],
   "source": [
    "import numpy as np\n",
    "import pandas as pd\n",
    "import sqlite3\n",
    "from sklearn.model_selection import train_test_split\n",
    "from sklearn.pipeline import Pipeline\n",
    "from sklearn.impute import SimpleImputer\n",
    "from sklearn.metrics import mean_absolute_error\n",
    "from sklearn.ensemble import GradientBoostingRegressor\n",
    "import matplotlib.pyplot as plt"
   ]
  },
  {
   "cell_type": "markdown",
   "id": "54adaa1b-a8c0-4cbb-8999-63e8b9ff2242",
   "metadata": {},
   "source": [
    "# Import und Bereinigung der Daten für das Stromnetz"
   ]
  },
  {
   "cell_type": "code",
   "execution_count": 3,
   "id": "0556ab47-b793-4917-ae45-c27c1b17a2c9",
   "metadata": {},
   "outputs": [],
   "source": [
    "data = pd.read_csv(\"consumption_3years.csv\", sep=None, engine=\"python\", encoding=\"utf-8-sig\")"
   ]
  },
  {
   "cell_type": "code",
   "execution_count": 4,
   "id": "6542493e-e7fe-413b-9d72-09e8e3a78653",
   "metadata": {},
   "outputs": [
    {
     "name": "stdout",
     "output_type": "stream",
     "text": [
      "Spaltennamen und Typen:\n",
      "Start date                                                         object\n",
      "End date                                                           object\n",
      "grid load [MWh] Original resolutions                               object\n",
      "Grid load incl. hydro pumped storage [MWh] Original resolutions    object\n",
      "Hydro pumped storage [MWh] Original resolutions                    object\n",
      "Residual load [MWh] Original resolutions                           object\n",
      "dtype: object\n"
     ]
    }
   ],
   "source": [
    "print(f\"Spaltennamen und Typen:\\n{data.dtypes}\")"
   ]
  },
  {
   "cell_type": "markdown",
   "id": "517d52e7-e305-4502-906a-4e3b44d0246e",
   "metadata": {},
   "source": [
    "**Zeitspalte** in **Datetime** umwandeln."
   ]
  },
  {
   "cell_type": "code",
   "execution_count": 5,
   "id": "4200c47d-47aa-4358-83ee-781728ae3ede",
   "metadata": {},
   "outputs": [],
   "source": [
    "data[\"Start date\"]=pd.to_datetime(data[\"Start date\"], format=\"%b %d, %Y %I:%M %p\")\n",
    "data[\"End date\"]=pd.to_datetime(data[\"End date\"], format=\"%b %d, %Y %I:%M %p\")"
   ]
  },
  {
   "cell_type": "markdown",
   "id": "f9d656f3-72db-4591-8748-a330cf92099e",
   "metadata": {},
   "source": [
    "**Spaltennamen** modifizieren und **Dezimalkommata entfernen**."
   ]
  },
  {
   "cell_type": "code",
   "execution_count": 6,
   "id": "2493a728-3c2e-49d3-90b1-bc385940387d",
   "metadata": {},
   "outputs": [],
   "source": [
    "data.columns=data.columns.str.replace(\" Original resolutions\", \"\", regex=False)\n",
    "for col in data.select_dtypes(include=\"object\"):\n",
    "    data[col] = (data[col].str.replace(\",\", \"\",regex=False))\n",
    "    data[col] = pd.to_numeric(data[col])"
   ]
  },
  {
   "cell_type": "markdown",
   "id": "2dcbe5ea-fa99-4a5e-9d47-0d4170404896",
   "metadata": {},
   "source": [
    "**Überprüfung** ob **relevante Spalte** nur **Digits** enthält und ausgeben der **Datentypen** für alle **Spalten**."
   ]
  },
  {
   "cell_type": "code",
   "execution_count": 7,
   "id": "c55cc572-dc0f-42b4-ab5c-e1f6dc6944fa",
   "metadata": {},
   "outputs": [
    {
     "name": "stdout",
     "output_type": "stream",
     "text": [
      "Keine Verunreinigung der betrachteten Spalte durch non-digits!\n",
      "\n",
      "\n",
      "Namen sind übersichtlicher und Daten sind jetzt numerisch:\n",
      "\n",
      "Start date                                    datetime64[ns]\n",
      "End date                                      datetime64[ns]\n",
      "grid load [MWh]                                      float64\n",
      "Grid load incl. hydro pumped storage [MWh]           float64\n",
      "Hydro pumped storage [MWh]                           float64\n",
      "Residual load [MWh]                                  float64\n",
      "dtype: object\n"
     ]
    }
   ],
   "source": [
    "non_numeric_mask = pd.to_numeric(data[\"Residual load [MWh]\"], errors=\"coerce\").isna()\n",
    "if len(data[non_numeric_mask]) == 0:\n",
    "    print(\"Keine Verunreinigung der betrachteten Spalte durch non-digits!\")\n",
    "else:\n",
    "    print(\"Spalte enthält nicht ausschließlich digits!\")\n",
    "\n",
    "print(f\"\"\"\\n\\nNamen sind übersichtlicher und Daten sind jetzt numerisch:\\n\\n{data.dtypes}\"\"\")"
   ]
  },
  {
   "cell_type": "markdown",
   "id": "1bf17bd0-0045-4bc7-bd37-9a0847eb6bdc",
   "metadata": {},
   "source": [
    "**Daten der Residuallast** werden aus dem DataFrame extrahiert und nach dem **Tag in Summe geresampled**."
   ]
  },
  {
   "cell_type": "code",
   "execution_count": 8,
   "id": "7006665f-eccd-41e4-b4f2-2b787377d9ae",
   "metadata": {},
   "outputs": [
    {
     "name": "stdout",
     "output_type": "stream",
     "text": [
      "Erste 4 Werte von Residual load [MWh] mit Datetimeangabe:\n",
      "\n",
      "           Start date  Residual load [MWh]\n",
      "0 2022-06-10 00:00:00              9788.25\n",
      "1 2022-06-10 00:15:00              9722.75\n",
      "2 2022-06-10 00:30:00              9596.25\n",
      "3 2022-06-10 00:45:00              9398.25\n",
      "4 2022-06-10 01:00:00              9279.50\n",
      "\n",
      "Nach Tagessumme geresamplete \"Residual load [MWh]\" (genannt res):\n",
      "                  res\n",
      "Start date           \n",
      "2022-06-10  859971.00\n",
      "2022-06-11  666921.75\n",
      "2022-06-12  559318.25\n",
      "2022-06-13  725882.25\n",
      "2022-06-14  881550.25\n"
     ]
    }
   ],
   "source": [
    "print(f\"Erste 4 Werte von Residual load [MWh] mit Datetimeangabe:\\n\\n{pd.concat([data.iloc[:5,0],data.iloc[:5,5]], axis=1)}\")\n",
    "data = data.set_index(\"Start date\").sort_index()\n",
    "\n",
    "# Nur Residual load pro Tag summieren\n",
    "data_res = data[[\"Residual load [MWh]\"]].resample(\"D\").sum()\n",
    "data_res = data_res.rename(columns={\"Residual load [MWh]\": \"res\"})\n",
    "print(f\"\"\"\\nNach Tagessumme geresamplete \"Residual load [MWh]\" (genannt res):\\n{data_res.head()}\"\"\")"
   ]
  },
  {
   "cell_type": "markdown",
   "id": "132bfc87-40f9-4655-90ff-4bf537a5903b",
   "metadata": {},
   "source": [
    "# Visualisierung der Residuallast als Plausibilitätsüberprüfung"
   ]
  },
  {
   "cell_type": "markdown",
   "id": "c930a9bb-2e89-415d-9649-4d9960b4a354",
   "metadata": {},
   "source": [
    "Residuallast ist wie erwartet im Winter am höchsten. (Höchster Heizbedarf, niedrigste Solarenergieerzeugung)"
   ]
  },
  {
   "cell_type": "code",
   "execution_count": 85,
   "id": "1d3abfd6-ebc4-4b3c-8ff9-76ebdbc4f0c8",
   "metadata": {},
   "outputs": [
    {
     "data": {
      "image/png": "[encoded data removed]",
      "text/plain": [
       "<Figure size 1000x250 with 1 Axes>"
      ]
     },
     "metadata": {},
     "output_type": "display_data"
    }
   ],
   "source": [
    "maske_1_year=(data_res.index.year == 2024)\n",
    "data_1_year=data_res[\"res\"].loc[maske_1_year]\n",
    "y=data_1_year.values\n",
    "x=data_1_year.index.date\n",
    "plt.figure(figsize=(10, 2.5))\n",
    "plt.subplots_adjust(bottom=0.25)\n",
    "plt.plot(x,y)\n",
    "plt.title(\"Residuallast in MWh/Tag im Jahresverlauf\")\n",
    "plt.xlabel(\"Datum\")\n",
    "plt.ylabel(\"Residuallast [MWh/Tag]\")\n",
    "plt.grid()\n",
    "plt.xticks(rotation=45, ha=\"right\")\n",
    "plt.savefig(\"yearly_res.pdf\")\n",
    "plt.show()"
   ]
  },
  {
   "cell_type": "markdown",
   "id": "22cd747a-f02d-4441-9509-70da18cc0f23",
   "metadata": {},
   "source": [
    "# Import von Wetterdaten"
   ]
  },
  {
   "cell_type": "markdown",
   "id": "98baa6ae-ce70-42aa-b35f-fffa5f7d2861",
   "metadata": {},
   "source": [
    "Um die Daten für die **Residuallast** mit den **Wetterdaten** zusammenführen zu können, müssen die eingelesenen Daten ebenfalls nach dem **Tag geresampled** werden. Für Wetterdaten ist jedoch der Durchschnitt sinniger."
   ]
  },
  {
   "cell_type": "code",
   "execution_count": 73,
   "id": "0197d890-b9d5-4e58-82de-63f757f8c019",
   "metadata": {},
   "outputs": [],
   "source": [
    "def read_resample(path, mode):\n",
    "    temp = pd.read_csv(path, index_col=\"Zeit\", parse_dates=[\"Zeit\"])\n",
    "    #data_dict[f\"data_{name}\"] = temp\n",
    "    if mode == 0:\n",
    "        temp=temp.resample(\"D\").mean()\n",
    "        temp_new=temp[[\"Temperatur (°C)\", \"Strahlung W/m^2\"]]\n",
    "        temp_new=temp_new.rename(columns={\"Temperatur (°C)\":\"temp\", \"Strahlung W/m^2\":\"rad\"})\n",
    "        return temp_new\n",
    "    elif mode == 1:\n",
    "        temp=temp.resample(\"D\").mean()\n",
    "        temp_new=temp[[\"wind_100m\", \"Temperatur (°C)\"]]\n",
    "        temp_new=temp_new.rename(columns={\"wind_100m\": \"wind\", \"Temperatur (°C)\": \"temp\"})\n",
    "        return temp_new\n",
    "    else:\n",
    "        print(\"\"\"enter (\"data_name.csv\", number), 0 for temperature and radiation, or 1 for wind\"\"\")\n",
    "        return None"
   ]
  },
  {
   "cell_type": "markdown",
   "id": "bc50a56b-0779-4899-bab7-9c6643b2c5ac",
   "metadata": {},
   "source": [
    "Da es **regionale Unterschiede** gibt in der Erzeugung von Solar- und Windstrom, werden für die **nördlichen Städte (Kiel, Hannover, Roggenstede)** die Wetterdaten für den **Wind und Temperatur** berücksichtigt, für die **südlicheren Städte** die Daten für **Sonneneinstrahlung und Temperatur.**"
   ]
  },
  {
   "cell_type": "code",
   "execution_count": 74,
   "id": "93fb9ebc-bd4a-4bfc-b9c1-fc75d194e3b8",
   "metadata": {},
   "outputs": [],
   "source": [
    "data_berlin=read_resample(\"Berlin_Klima.csv\",0)\n",
    "data_muenchen=read_resample(\"München_Klima.csv\",0)\n",
    "data_karlsruhe=read_resample(\"Karlsruhe_Klima.csv\",0)\n",
    "data_kiel=read_resample(\"Kiel_Klima.csv\",1)\n",
    "data_duesseldorf=read_resample(\"Düsseldorf_Klima.csv\",0)\n",
    "data_hannover=read_resample(\"Hannover_Klima.csv\",1)\n",
    "data_roggenstede=read_resample(\"Roggenstede_Klima.csv\",1)\n",
    "\n",
    "#Datensatz für Roggenstede war größer, daher kurz mit Maske gewünschten Bereich auswählen\n",
    "maske=(data_roggenstede.index.date >= pd.to_datetime(\"2022-06-10\").date()) & (data_roggenstede.index.date <= pd.to_datetime(\"2025-06-10\").date())\n",
    "data_roggenstede=data_roggenstede.loc[maske]"
   ]
  },
  {
   "cell_type": "code",
   "execution_count": 75,
   "id": "c1fd1f69-973e-4eee-a672-e6de5e7a06f9",
   "metadata": {},
   "outputs": [
    {
     "name": "stdout",
     "output_type": "stream",
     "text": [
      "So sehen die Daten jetzt aus:\n",
      "Kiel\n",
      "                 wind       temp\n",
      "Zeit                            \n",
      "2022-06-10  21.641667  16.487500\n",
      "2022-06-11  20.291667  17.075000\n",
      "2022-06-12  24.291667  15.354167\n",
      "2022-06-13  26.791667  13.562500\n",
      "2022-06-14  23.000000  14.033333\n",
      "\n",
      "München\n",
      "                 temp         rad\n",
      "Zeit                             \n",
      "2022-06-10  15.020833  161.958333\n",
      "2022-06-11  17.420833  199.875000\n",
      "2022-06-12  20.479167  258.083333\n",
      "2022-06-13  17.820833  201.083333\n",
      "2022-06-14  16.945833  276.291667\n"
     ]
    }
   ],
   "source": [
    "print(f\"So sehen die Daten jetzt aus:\\nKiel\\n{data_kiel.head()}\\n\\nMünchen\\n{data_muenchen.head()}\")"
   ]
  },
  {
   "cell_type": "markdown",
   "id": "9f97729f-2d16-4418-ba86-a101948905d3",
   "metadata": {},
   "source": [
    "Anschließend werden **Windgeschwindigkeit**, **Temperatur** und **Sonneneinstrahlung** über alle ausgewählten Städte gemittelt."
   ]
  },
  {
   "cell_type": "code",
   "execution_count": 76,
   "id": "0e8d3a23-7be6-432b-849c-10f40c0d465d",
   "metadata": {},
   "outputs": [],
   "source": [
    "data_mean_rad=pd.DataFrame()\n",
    "data_mean_temp=pd.DataFrame()\n",
    "data_mean_wind=pd.DataFrame()\n",
    "data_dict = {\n",
    "    \"data_muenchen\": data_muenchen,\n",
    "    \"data_karlsruhe\": data_karlsruhe,\n",
    "    \"data_duesseldorf\": data_duesseldorf,\n",
    "    \"data_berlin\": data_berlin,\n",
    "    \"data_kiel\": data_kiel,\n",
    "    \"data_hannover\": data_hannover,\n",
    "    \"data_roggenstede\": data_roggenstede,\n",
    "}\n",
    "\n",
    "rad_name_list  = [\"data_muenchen\", \"data_karlsruhe\", \"data_duesseldorf\", \"data_berlin\"]\n",
    "wind_name_list = [\"data_kiel\", \"data_hannover\", \"data_roggenstede\"]\n",
    "temp_name_list = rad_name_list + wind_name_list\n",
    "\n",
    "list_rad=[]\n",
    "list_wind=[]\n",
    "list_temp=[]\n",
    "\n",
    "for name in rad_name_list:\n",
    "    list_rad.append(data_dict[name][\"rad\"])\n",
    "for name in wind_name_list:\n",
    "    list_wind.append(data_dict[name][\"wind\"])\n",
    "for name in temp_name_list:\n",
    "    list_temp.append(data_dict[name][\"temp\"])\n",
    "\n",
    "data_rad_all=pd.concat(list_rad, axis=1)  \n",
    "data_rad_all_mean=data_rad_all.mean(axis=1) \n",
    "data_mean_rad[\"rad\"]=data_rad_all_mean\n",
    "\n",
    "data_temp_all=pd.concat(list_temp, axis=1)  \n",
    "data_temp_all_mean=data_temp_all.mean(axis=1) \n",
    "data_mean_temp[\"temp\"]=data_temp_all_mean\n",
    "\n",
    "data_wind_all=pd.concat(list_wind, axis=1)\n",
    "data_wind_all_mean=data_wind_all.mean(axis=1)\n",
    "data_mean_wind[\"wind\"]=data_wind_all_mean"
   ]
  },
  {
   "cell_type": "markdown",
   "id": "3861deec-f1ba-4951-94da-5ad98e829c82",
   "metadata": {},
   "source": [
    "# Zusammenführen der Daten und Vorbereitung von Features und Target"
   ]
  },
  {
   "cell_type": "code",
   "execution_count": 77,
   "id": "d53d1f6b-2937-47fb-854b-095067e56acf",
   "metadata": {},
   "outputs": [
    {
     "name": "stdout",
     "output_type": "stream",
     "text": [
      "DataFrame für die berücksichtigten Wetterdaten:\n",
      "\n",
      "                   rad       temp       wind\n",
      "Zeit                                        \n",
      "2022-06-10  179.520833  16.930357  20.509722\n",
      "2022-06-11  160.885417  18.922619  22.058333\n",
      "2022-06-12  223.677083  18.470238  22.172222\n",
      "2022-06-13  163.895833  15.911905  25.806944\n",
      "2022-06-14  219.958333  15.698810  16.340278\n"
     ]
    }
   ],
   "source": [
    "climate_data_list = [data_mean_rad, data_mean_temp, data_mean_wind]\n",
    "climate_data = pd.concat(climate_data_list, axis=1)\n",
    "print(f\"DataFrame für die berücksichtigten Wetterdaten:\\n\\n{climate_data.head()}\")"
   ]
  },
  {
   "cell_type": "markdown",
   "id": "5536530d-6034-49eb-aabe-3e64fc582d0b",
   "metadata": {},
   "source": [
    "**Wetterdaten und Residuallast** werden in einem DataFrame ml_data zusammengeführt.\n",
    "\n",
    "Für das Modell werden alle numerischen Variablen als Eingangsgrößen berücksichtigt (**rad**, **temp**, **wind**, **dayofweek**, **dayofyear**). Die Zielvariable **res** in MWh/Tag (Residuallast) wird ausgeschlossen.\n",
    "\n",
    "- **rad** (Sonneneinstrahlung in W/m²) und **wind** (Windgeschwindigkeit in km/h in 100m Höhe) repräsentieren die wetterabhängige Einspeisung aus Photovoltaik- und Windkraftanlagen.\n",
    "\n",
    "- Die Temperatur in (°C) **temp** wird mit einbezogen, um z.B. die Heizlast zu berücksichtigen \n",
    "\n",
    "- **dayofweek** bildet Unterschiede im Verbrauchsverhalten zwischen Werktagen (Mo–Fr, höherer Industrie- und Gewerbelast) und Wochenenden ab.\n",
    "\n",
    "- **dayofyear** erfasst saisonale Effekte, etwa höhere PV-Erzeugung im Sommer und geringere im Winter.\n",
    "\n",
    "Damit kombiniert das Modell sowohl wetterbedingte Einflussfaktoren als auch typische zeitliche Muster des Stromverbrauchs."
   ]
  },
  {
   "cell_type": "code",
   "execution_count": 78,
   "id": "eb1a9e05-e785-4329-a47b-3294cd061d5d",
   "metadata": {},
   "outputs": [
    {
     "name": "stdout",
     "output_type": "stream",
     "text": [
      "Auflistung aller Features:\n",
      "['rad', 'temp', 'wind', 'dayofweek', 'dayofyear']\n",
      "\n",
      "Datentypen stimmen alle:\n",
      "\n",
      "date         datetime64[ns]\n",
      "rad                 float64\n",
      "temp                float64\n",
      "wind                float64\n",
      "res                 float64\n",
      "dayofweek             int32\n",
      "dayofyear             int32\n",
      "dtype: object\n"
     ]
    }
   ],
   "source": [
    "ml_data=climate_data.join(data_res, how=\"outer\")\n",
    "ml_data = ml_data.reset_index().rename(columns={\"Zeit\": \"date\"})\n",
    "ml_data[\"dayofweek\"] = ml_data[\"date\"].dt.dayofweek     # 0=Mo..6=So\n",
    "ml_data[\"dayofyear\"] = ml_data[\"date\"].dt.dayofyear \n",
    "target = \"res\"\n",
    "num_cols = ml_data.select_dtypes(include=[np.number]).columns.tolist()\n",
    "\n",
    "feature_cols=[]\n",
    "for c in num_cols:\n",
    "    if c != target:\n",
    "        feature_cols.append(c)\n",
    "print(f\"Auflistung aller Features:\\n{feature_cols}\\n\")\n",
    "print(f\"Datentypen stimmen alle:\\n\\n{ml_data.dtypes}\") "
   ]
  },
  {
   "cell_type": "markdown",
   "id": "16f80060-acf3-4892-8074-f3e4c295d533",
   "metadata": {},
   "source": [
    "# ML-Workflow"
   ]
  },
  {
   "cell_type": "markdown",
   "id": "cf6b36ef-f291-4442-956e-143c6d7743d6",
   "metadata": {},
   "source": [
    "**Definition** von features **X** und target **y**"
   ]
  },
  {
   "cell_type": "code",
   "execution_count": 79,
   "id": "df582c87-1525-46d2-bca3-f65ff370fc95",
   "metadata": {},
   "outputs": [
    {
     "name": "stdout",
     "output_type": "stream",
     "text": [
      "Keine NaN in Target!\n",
      "\n",
      "Alle features:\n",
      "\n",
      "          rad       temp       wind  dayofweek  dayofyear\n",
      "0  179.520833  16.930357  20.509722          4        161\n",
      "1  160.885417  18.922619  22.058333          5        162\n",
      "2  223.677083  18.470238  22.172222          6        163\n",
      "3  163.895833  15.911905  25.806944          0        164\n",
      "4  219.958333  15.698810  16.340278          1        165\n",
      "\n",
      "Target \"res\"\n",
      "\n",
      "0    859971.00\n",
      "1    666921.75\n",
      "2    559318.25\n",
      "3    725882.25\n",
      "4    881550.25\n",
      "Name: res, dtype: float64\n"
     ]
    }
   ],
   "source": [
    "X = ml_data[feature_cols]\n",
    "y = ml_data[target]\n",
    "nan_test=y.isna().any()\n",
    "if nan_test:\n",
    "    print(\"ACHTUNG! NaN in Target\")\n",
    "else:\n",
    "    print(\"Keine NaN in Target!\")\n",
    "print(f\"\\nAlle features:\\n\\n{X.head()}\\n\")\n",
    "print(f\"\"\"Target \"res\"\\n\\n{y.head()}\"\"\")"
   ]
  },
  {
   "cell_type": "markdown",
   "id": "9fb8231e-aab4-4bf8-8d0f-f376da14bf3c",
   "metadata": {},
   "source": [
    "**Aufteilung** in Test und Trainingsdatensatz, **80% Trainingsdaten** (**chronologisch** erste 80% da **shuffle=False**), 20% Testdaten  (chronologisch letzte 20%)."
   ]
  },
  {
   "cell_type": "code",
   "execution_count": 80,
   "id": "7758ed79-4364-42af-9a48-7b4af78ed866",
   "metadata": {},
   "outputs": [],
   "source": [
    "X_train, X_test, y_train, y_test = train_test_split(X, y, test_size=0.2, shuffle=False)"
   ]
  },
  {
   "cell_type": "markdown",
   "id": "ba2b3122-dfee-449c-b2f6-a7975274d86e",
   "metadata": {},
   "source": [
    "Der Modellierungs-Workflow bestand aus folgenden Schritten:\n",
    "\n",
    "1. **Preprocessing**: fehlende Werte wurden mit dem Median ersetzt (SimpleImputer).  \n",
    "2. **Modelltraining**: ein GradientBoostingRegressor wurde mit 500 Bäumen, einer maximalen Tiefe von 3 und einer Lernrate von 0.05 trainiert.  \n",
    "3. **Vorhersage**: die Residuallast im Testzeitraum wurde prognostiziert.  \n",
    "4. **Bewertung**: die Modellgüte wurde anhand der Kennzahlen MAE und MAPE bewertet.  "
   ]
  },
  {
   "cell_type": "code",
   "execution_count": 81,
   "id": "c69351ed-38e0-4f23-b988-2dae363b43ee",
   "metadata": {},
   "outputs": [
    {
     "name": "stdout",
     "output_type": "stream",
     "text": [
      "GradientBoosting: MAE=84158 MWh/Tag  |  MAPE=14.13%\n",
      "MAE = Mittlerer absoluter Fehler;  MAPE = Mittlerer absoluter prozentualer Fehler\n",
      "\n",
      "MAE=84158 MWh/Tag bedeutet: Das Modell liegt im Mittel um 84158 MWh/Tag daneben.\n",
      "MAPE=14.13% bedeutet: Im Mittel liegt die Prognose um 14.13% daneben.\n",
      "\n",
      "Hinweis: Die Fehler beziehen sich auf perfekte Wetter-Historie.\n",
      "In der Praxis kommt zusätzlich der Fehler der Wettervorhersage hinzu.\n"
     ]
    }
   ],
   "source": [
    "pipe = Pipeline(steps=[\n",
    "    (\"imputer\", SimpleImputer(strategy=\"median\")),\n",
    "    (\"model\", GradientBoostingRegressor(\n",
    "        n_estimators=500,     \n",
    "        learning_rate=0.05,   \n",
    "        max_depth=3,          \n",
    "        random_state=42\n",
    "    ))\n",
    "])\n",
    "\n",
    "pipe.fit(X_train, y_train)\n",
    "pred = pipe.predict(X_test)\n",
    "\n",
    "mae = mean_absolute_error(y_test, pred)\n",
    "mape = (np.abs((y_test - pred) / y_test.replace(0, np.nan))).mean() * 100\n",
    "print(f\"GradientBoosting: MAE={mae:.0f} MWh/Tag  |  MAPE={mape:.2f}%\")\n",
    "print(\"MAE = Mittlerer absoluter Fehler;  MAPE = Mittlerer absoluter prozentualer Fehler\")\n",
    "print(f\"\\nMAE={mae:.0f} MWh/Tag bedeutet: Das Modell liegt im Mittel um {mae:.0f} MWh/Tag daneben.\")\n",
    "print(f\"MAPE={mape:.2f}% bedeutet: Im Mittel liegt die Prognose um {mape:.2f}% daneben.\")\n",
    "print(\"\\nHinweis: Die Fehler beziehen sich auf perfekte Wetter-Historie.\")\n",
    "print(\"In der Praxis kommt zusätzlich der Fehler der Wettervorhersage hinzu.\")"
   ]
  },
  {
   "cell_type": "markdown",
   "id": "8577bcf8-47ac-45be-afa7-a8dcdd72b93a",
   "metadata": {},
   "source": [
    "Zur Überprüfung, ob das GradientBoosting-Modell tatsächlich einen Mehrwert bietet, wird es mit einer simplen Referenzmethode verglichen: der **Gestern=Heute-Vorhersage**.\n",
    "Dabei wird die Residuallast von Tag t als Vorhersage für Tag t+1 verwendet. Technisch wird hierfür eine Prognose-Serie **y_simple** erzeugt, die um **einen Tag nach vorne verschoben** ist.\n",
    "Anschließend werden die Werte im Testzeitraum mit den tatsächlichen Residuallasten verglichen und die Fehlermaße **MAE** und **MAPE** berechnet.\n",
    "So lässt sich direkt quantifizieren, in welchem Umfang das **GradientBoosting-Modell die simple Vorhersage übertrifft**."
   ]
  },
  {
   "cell_type": "code",
   "execution_count": 82,
   "id": "596a378d-ed45-41be-b25d-d34d2198b876",
   "metadata": {},
   "outputs": [
    {
     "name": "stdout",
     "output_type": "stream",
     "text": [
      "Gestern-Heute-Vorhersage: MAE=174076 MWh/Tag  MAPE=29.40%\n",
      "GradientBoosting: MAE=84158 MWh/Tag  MAPE=14.13%\n",
      "\n",
      "Das GradientBoosting-Modell reduziert den MAE um 51.7% \n",
      "und den MAPE um 51.9% im Vergleich zur Gestern-Heute-Vorhersage.\n"
     ]
    }
   ],
   "source": [
    "steps = 1\n",
    "y_simple = y.shift(steps)\n",
    "\n",
    "simple_pred = y_simple.loc[y_test.index]\n",
    "simple_truth = y_test\n",
    "\n",
    "\n",
    "mae_simple = mean_absolute_error(simple_truth, simple_pred)\n",
    "\n",
    "mask = simple_truth != 0\n",
    "mape_simple = (np.abs((simple_truth[mask] - simple_pred[mask]) / simple_truth[mask])).mean() * 100\n",
    "\n",
    "print(f\"Gestern-Heute-Vorhersage: MAE={mae_simple:.0f} MWh/Tag  MAPE={mape_simple:.2f}%\")\n",
    "print(f\"GradientBoosting: MAE={mae:.0f} MWh/Tag  MAPE={mape:.2f}%\")\n",
    "mae_reduce=(mae_simple-mae)/mae_simple*100\n",
    "mape_reduce=(mape_simple-mape)/mape_simple*100\n",
    "print(f\"\\nDas GradientBoosting-Modell reduziert den MAE um {mae_reduce:.1f}% \\nund den MAPE um {mape_reduce:.1f}% im Vergleich zur Gestern-Heute-Vorhersage.\")"
   ]
  },
  {
   "cell_type": "markdown",
   "id": "6a30ff6c-ce21-4350-a890-e353096614bb",
   "metadata": {},
   "source": [
    "# Relevanz der einzelnen Features\n",
    "\n",
    "Anschließend wird die Wichtigkeit der einzelnen Features **fi** aus dem **trainierten GradientBoosting-Modell** extrahiert, den zugehörigen Spaltennamen zugeordnet und der Größe nach sortiert.  \n",
    "\n",
    "Die Werte geben an, wie stark jedes Feature relativ im Modell genutzt wurde, also wie stark es in den Entscheidungsbäumen des Modells zur Verbesserung der Vorhersage herangezogen wurde. \n",
    "\n",
    "Die einzelnen Werte dienen als **Indikator**, welche der genutzten Features für die Prognose der Residuallast im Modell am wichtigsten sind.\n"
   ]
  },
  {
   "cell_type": "code",
   "execution_count": 83,
   "id": "439d5c20-b0f9-4a22-8f49-edb5102ed87e",
   "metadata": {},
   "outputs": [
    {
     "name": "stdout",
     "output_type": "stream",
     "text": [
      "Gewichtung der einzelnen Features:\n",
      "wind         0.442119\n",
      "temp         0.180607\n",
      "dayofweek    0.174729\n",
      "rad          0.133410\n",
      "dayofyear    0.069135\n",
      "dtype: float64\n",
      "Summe der Gewichte: 1.0\n",
      "\n",
      "Die Werte geben also die relative Wichtigkeit der Features im Modell an.\n"
     ]
    }
   ],
   "source": [
    "gb_model = pipe.named_steps[\"model\"]\n",
    "fi = pd.Series(gb_model.feature_importances_, index=X_train.columns)\n",
    "\n",
    "fi = fi.sort_values(ascending=False)\n",
    "print(f\"Gewichtung der einzelnen Features:\\n{fi}\")  \n",
    "\n",
    "sum_fi = fi.sum()\n",
    "print(f\"Summe der Gewichte: {sum_fi}\")\n",
    "print(\"\\nDie Werte geben also die relative Wichtigkeit der Features im Modell an.\")"
   ]
  },
  {
   "cell_type": "markdown",
   "id": "16732f02-e2bf-4bf9-a87c-3b4263f6eeff",
   "metadata": {},
   "source": [
    "**Grafische Darstellung** der Wichtigkeit der einzelnen Features."
   ]
  },
  {
   "cell_type": "code",
   "execution_count": 86,
   "id": "14753e07-942e-4926-9083-f4f567f3b478",
   "metadata": {},
   "outputs": [
    {
     "data": {
      "image/png": "[encoded data removed]",
      "text/plain": [
       "<Figure size 640x480 with 1 Axes>"
      ]
     },
     "metadata": {},
     "output_type": "display_data"
    }
   ],
   "source": [
    "y=fi.values\n",
    "x=fi.index\n",
    "plt.figure()\n",
    "plt.bar(x,y)\n",
    "plt.xlabel(\"Feature\")\n",
    "plt.ylabel(\"Gewichtung\")\n",
    "plt.title(\"Wichtigste Variablen\")\n",
    "plt.savefig(\"wichtigste_var.pdf\")\n",
    "plt.show()"
   ]
  },
  {
   "cell_type": "code",
   "execution_count": null,
   "id": "1f3c82bc-00dd-43d2-a2e4-cec63b530336",
   "metadata": {},
   "outputs": [],
   "source": []
  }
 ],
 "metadata": {
  "kernelspec": {
   "display_name": "Python 3 (ipykernel)",
   "language": "python",
   "name": "python3"
  },
  "language_info": {
   "codemirror_mode": {
    "name": "ipython",
    "version": 3
   },
   "file_extension": ".py",
   "mimetype": "text/x-python",
   "name": "python",
   "nbconvert_exporter": "python",
   "pygments_lexer": "ipython3",
   "version": "3.12.3"
  }
 },
 "nbformat": 4,
 "nbformat_minor": 5
}
